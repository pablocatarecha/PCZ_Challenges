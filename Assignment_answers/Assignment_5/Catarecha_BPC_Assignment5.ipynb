{
 "cells": [
  {
   "cell_type": "markdown",
   "metadata": {},
   "source": [
    "# Bioinformatics programming challenges. Pablo Catarecha. Assignment 5."
   ]
  },
  {
   "cell_type": "markdown",
   "metadata": {},
   "source": [
    "Question 1.- How many protein records are in UniProt?"
   ]
  },
  {
   "cell_type": "code",
   "execution_count": 1,
   "metadata": {
    "scrolled": true
   },
   "outputs": [
    {
     "data": {
      "text/html": [
       "<div class=\"krn-spql\"><div class=\"magic\">Endpoint set to: https://sparql.uniprot.org/sparql</div><div class=\"magic\">Request format: JSON</div></div>"
      ],
      "text/plain": [
       "Endpoint set to: https://sparql.uniprot.org/sparql\n",
       "Request format: JSON\n"
      ]
     },
     "metadata": {},
     "output_type": "display_data"
    },
    {
     "data": {
      "text/html": [
       "<div class=\"krn-spql\"><table><tr class=hdr><th>no_of_proteins</th></tr><tr class=odd><td class=val>378979161</td></tr></table><div class=\"tinfo\">Total: 1, Shown: 1</div></div>"
      ]
     },
     "metadata": {},
     "output_type": "display_data"
    }
   ],
   "source": [
    "%endpoint https://sparql.uniprot.org/sparql\n",
    "%format JSON\n",
    "\n",
    "PREFIX up: <http://purl.uniprot.org/core/>\n",
    "PREFIX rdf: <http://www.w3.org/1999/02/22-rdf-syntax-ns#>\n",
    "\n",
    "select (count (?s) as ?no_of_proteins) where {\n",
    "    ?s a up:Protein.\n",
    "}\n"
   ]
  },
  {
   "cell_type": "markdown",
   "metadata": {},
   "source": [
    "Question 2.- How many Arabidopsis thaliana protein records are in UniProt?"
   ]
  },
  {
   "cell_type": "code",
   "execution_count": 2,
   "metadata": {},
   "outputs": [
    {
     "data": {
      "text/html": [
       "<div class=\"krn-spql\"><div class=\"magic\">Endpoint set to: https://sparql.uniprot.org/sparql</div><div class=\"magic\">Request format: JSON</div></div>"
      ],
      "text/plain": [
       "Endpoint set to: https://sparql.uniprot.org/sparql\n",
       "Request format: JSON\n"
      ]
     },
     "metadata": {},
     "output_type": "display_data"
    },
    {
     "data": {
      "text/html": [
       "<div class=\"krn-spql\"><table><tr class=hdr><th>no_of_Arathprots</th></tr><tr class=odd><td class=val>136447</td></tr></table><div class=\"tinfo\">Total: 1, Shown: 1</div></div>"
      ]
     },
     "metadata": {},
     "output_type": "display_data"
    }
   ],
   "source": [
    "%endpoint https://sparql.uniprot.org/sparql\n",
    "%format JSON\n",
    "\n",
    "PREFIX up: <http://purl.uniprot.org/core/>\n",
    "PREFIX rdf: <http://www.w3.org/1999/02/22-rdf-syntax-ns#>\n",
    "\n",
    "select (count (?s) as ?no_of_Arathprots) where {\n",
    "    ?s a up:Protein;\n",
    "        up:organism ?taxon.\n",
    "    ?taxon up:scientificName 'Arabidopsis thaliana'.\n",
    "}"
   ]
  },
  {
   "cell_type": "markdown",
   "metadata": {},
   "source": [
    "Question 3.- Retrieve pictures of Arabidopsis thaliana from UniProt."
   ]
  },
  {
   "cell_type": "code",
   "execution_count": 3,
   "metadata": {},
   "outputs": [
    {
     "data": {
      "text/html": [
       "<div class=\"krn-spql\"><div class=\"magic\">Endpoint set to: https://sparql.uniprot.org/sparql</div><div class=\"magic\">Request format: JSON</div></div>"
      ],
      "text/plain": [
       "Endpoint set to: https://sparql.uniprot.org/sparql\n",
       "Request format: JSON\n"
      ]
     },
     "metadata": {},
     "output_type": "display_data"
    },
    {
     "data": {
      "text/html": [
       "<div class=\"krn-spql\"><table><tr class=hdr><th>Arath_images</th></tr><tr class=odd><td class=val><a href=\"https://upload.wikimedia.org/wikipedia/commons/3/39/Arabidopsis.jpg\" target=\"_other\">https://upload.wikimedia.org/wikipedia/commons/3/39/Arabidopsis.jpg</a></td></tr><tr class=even><td class=val><a href=\"https://upload.wikimedia.org/wikipedia/commons/thumb/6/60/Arabidopsis_thaliana_inflorescencias.jpg/800px-Arabidopsis_thaliana_inflorescencias.jpg\" target=\"_other\">https://upload.wikimedia.org/wikipedia/commons/thumb/6/60/Arabidopsis_thaliana_inflorescencias.jpg/800px-Arabidopsis_thaliana_inflorescencias.jpg</a></td></tr></table><div class=\"tinfo\">Total: 2, Shown: 2</div></div>"
      ]
     },
     "metadata": {},
     "output_type": "display_data"
    }
   ],
   "source": [
    "%endpoint https://sparql.uniprot.org/sparql\n",
    "%format JSON\n",
    "\n",
    "PREFIX up: <http://purl.uniprot.org/core/>\n",
    "PREFIX foaf: <http://xmlns.com/foaf/0.1/>\n",
    "\n",
    "select ?Arath_images where {\n",
    "    ?taxon foaf:depiction ?Arath_images;\n",
    "        up:scientificName 'Arabidopsis thaliana'.\n",
    "}"
   ]
  },
  {
   "cell_type": "markdown",
   "metadata": {},
   "source": [
    "Question 4.- What is the description of the enzyme activity of UniProt Protein Q9SZZ8?"
   ]
  },
  {
   "cell_type": "code",
   "execution_count": 4,
   "metadata": {},
   "outputs": [
    {
     "data": {
      "text/html": [
       "<div class=\"krn-spql\"><div class=\"magic\">Endpoint set to: https://sparql.uniprot.org/sparql</div><div class=\"magic\">Request format: JSON</div></div>"
      ],
      "text/plain": [
       "Endpoint set to: https://sparql.uniprot.org/sparql\n",
       "Request format: JSON\n"
      ]
     },
     "metadata": {},
     "output_type": "display_data"
    },
    {
     "data": {
      "text/html": [
       "<div class=\"krn-spql\"><table><tr class=hdr><th>enzyme_activity</th>\n",
       "<th>enzyme_act_description</th></tr><tr class=odd><td class=val><a href=\"http://purl.uniprot.org/enzyme/1.14.15.24\" target=\"_other\">http://purl.uniprot.org/enzyme/1.14.15.24</a></td>\n",
       "<td class=val>beta-carotene 3-hydroxylase</td></tr></table><div class=\"tinfo\">Total: 1, Shown: 1</div></div>"
      ]
     },
     "metadata": {},
     "output_type": "display_data"
    }
   ],
   "source": [
    "%endpoint https://sparql.uniprot.org/sparql\n",
    "%format JSON\n",
    "\n",
    "PREFIX up: <http://purl.uniprot.org/core/>\n",
    "PREFIX uniprotkb: <http://purl.uniprot.org/uniprot/>\n",
    "PREFIX skos: <http://www.w3.org/2004/02/skos/core#>\n",
    "\n",
    "select ?enzyme_activity ?enzyme_act_description where {\n",
    "    uniprotkb:Q9SZZ8 up:enzyme ?enzyme_activity.\n",
    "    ?enzyme_activity skos:prefLabel ?enzyme_act_description.\n",
    "}"
   ]
  },
  {
   "cell_type": "markdown",
   "metadata": {},
   "source": [
    "Question 5.- Retrieve the proteins ids, and date of submission, for proteins that have been added to UniProt this year."
   ]
  },
  {
   "cell_type": "code",
   "execution_count": null,
   "metadata": {},
   "outputs": [
    {
     "data": {
      "text/html": [
       "<div class=\"krn-spql\"><div class=\"magic\">Endpoint set to: https://sparql.uniprot.org/sparql</div><div class=\"magic\">Request format: JSON</div></div>"
      ],
      "text/plain": [
       "Endpoint set to: https://sparql.uniprot.org/sparql\n",
       "Request format: JSON\n"
      ]
     },
     "metadata": {},
     "output_type": "display_data"
    }
   ],
   "source": [
    "# This one takes surprisingly long to run in Jupyter notebook.\n",
    "# I have checked it on the SPARQL endpoint and it takes seconds.\n",
    "# I cannot find a reason why.\n",
    "# The code is ok.\n",
    "\n",
    "%endpoint https://sparql.uniprot.org/sparql\n",
    "%format JSON\n",
    "\n",
    "PREFIX xsd: <http://www.w3.org/2001/XMLSchema#>\n",
    "PREFIX up: <http://purl.uniprot.org/core/>\n",
    "PREFIX rdf: <http://www.w3.org/1999/02/22-rdf-syntax-ns#>\n",
    "\n",
    "select ?id ?date  where {\n",
    "    ?id a up:Protein;\n",
    "        up:created ?date.\n",
    "    filter (?date > \"2021-12-30\"^^xsd:dateTime)\n",
    "}"
   ]
  },
  {
   "cell_type": "markdown",
   "metadata": {},
   "source": [
    "Question 6.- How many species are in the UniProt taxonomy?"
   ]
  },
  {
   "cell_type": "code",
   "execution_count": 5,
   "metadata": {},
   "outputs": [
    {
     "data": {
      "text/html": [
       "<div class=\"krn-spql\"><div class=\"magic\">Endpoint set to: https://sparql.uniprot.org/sparql</div><div class=\"magic\">Request format: JSON</div></div>"
      ],
      "text/plain": [
       "Endpoint set to: https://sparql.uniprot.org/sparql\n",
       "Request format: JSON\n"
      ]
     },
     "metadata": {},
     "output_type": "display_data"
    },
    {
     "data": {
      "text/html": [
       "<div class=\"krn-spql\"><table><tr class=hdr><th>species</th></tr><tr class=odd><td class=val>1995728</td></tr></table><div class=\"tinfo\">Total: 1, Shown: 1</div></div>"
      ]
     },
     "metadata": {},
     "output_type": "display_data"
    }
   ],
   "source": [
    "%endpoint https://sparql.uniprot.org/sparql\n",
    "%format JSON\n",
    "\n",
    "PREFIX up: <http://purl.uniprot.org/core/>\n",
    "PREFIX rdf: <http://www.w3.org/1999/02/22-rdf-syntax-ns#>\n",
    "\n",
    "select (count (?taxon) as ?species) where {\n",
    "    ?taxon a up:Taxon;\n",
    "        up:rank up:Species.\n",
    "}"
   ]
  },
  {
   "cell_type": "markdown",
   "metadata": {},
   "source": [
    "Question 7.- How many species have at least one protein record? (this might take a long time\n",
    "to execute, so do this one last!)."
   ]
  },
  {
   "cell_type": "code",
   "execution_count": 10,
   "metadata": {},
   "outputs": [
    {
     "data": {
      "text/html": [
       "<div class=\"krn-spql\"><div class=\"magic\">Endpoint set to: https://sparql.uniprot.org/sparql</div><div class=\"magic\">Request format: JSON</div></div>"
      ],
      "text/plain": [
       "Endpoint set to: https://sparql.uniprot.org/sparql\n",
       "Request format: JSON\n"
      ]
     },
     "metadata": {},
     "output_type": "display_data"
    },
    {
     "data": {
      "text/html": [
       "<div class=\"krn-spql\"><table><tr class=hdr><th>species</th></tr><tr class=odd><td class=val>1078469</td></tr></table><div class=\"tinfo\">Total: 1, Shown: 1</div></div>"
      ]
     },
     "metadata": {},
     "output_type": "display_data"
    }
   ],
   "source": [
    "%endpoint https://sparql.uniprot.org/sparql\n",
    "%format JSON\n",
    "\n",
    "PREFIX rdf: <http://www.w3.org/1999/02/22-rdf-syntax-ns#>\n",
    "PREFIX up: <http://purl.uniprot.org/core/>\n",
    "\n",
    "select (count(?taxon)as ?species) where{\n",
    "    select ?taxon (count (distinct(?p))as ?prot) where{\n",
    "        ?p a up:Protein;\n",
    "            up:organism ?taxon.\n",
    "        ?taxon a up:Taxon;\n",
    "            up:rank up:Species.\n",
    "    }\n",
    "    group by(?taxon)\n",
    "    having(count(?p)>0)\n",
    "}"
   ]
  },
  {
   "cell_type": "markdown",
   "metadata": {},
   "source": [
    "Question 8.- Find the AGI codes and gene names for all Arabidopsis thaliana proteins that\n",
    "have a protein function annotation description that mentions “pattern formation”."
   ]
  },
  {
   "cell_type": "code",
   "execution_count": 7,
   "metadata": {
    "scrolled": false
   },
   "outputs": [
    {
     "data": {
      "text/html": [
       "<div class=\"krn-spql\"><div class=\"magic\">Endpoint set to: https://sparql.uniprot.org/sparql</div><div class=\"magic\">Request format: JSON</div></div>"
      ],
      "text/plain": [
       "Endpoint set to: https://sparql.uniprot.org/sparql\n",
       "Request format: JSON\n"
      ]
     },
     "metadata": {},
     "output_type": "display_data"
    },
    {
     "data": {
      "text/html": [
       "<div class=\"krn-spql\"><table><tr class=hdr><th>agi</th>\n",
       "<th>name</th>\n",
       "<th>comment</th></tr><tr class=odd><td class=val>At1g13980</td>\n",
       "<td class=val>GN</td>\n",
       "<td class=val>Activates the ARF proteins by exchanging bound GDP for free GTP. Plays a role in vesicular protein sorting. Acts as the major regulator of endosomal vesicle trafficking but is also involved in the endocytosis process. Could function redundantly with GNL1 in the retrograde Golgi to endoplasmic reticulum trafficking. Regulates vesicle trafficking required for the coordinated polar localization of auxin efflux carriers which in turn determines the direction of auxin flow. Mediates the sorting of PIN1 from endosomal compartments to the basal plasma membrane and the polarization of PIN3 to the bottom side of hypocotyl endodermal cells. Involved in the specification of apical-basal pattern formation in the early embryo and during root formation. Required for correct cell wall organization leading to normal cell adhesion during seedling development. Also plays an essential role in hydrotropism of seedling roots.</td></tr><tr class=even><td class=val>At3g02130</td>\n",
       "<td class=val>RPK2</td>\n",
       "<td class=val>Key regulator of anther development (e.g. lignification pattern), including tapetum degradation during pollen maturation (e.g. germination capacity). Together with RPK1, required for pattern formation along the radial axis (e.g. the apical embryonic domain cell types that generate cotyledon primordia), and the apical-basal axis (e.g. differentiation of the basal pole during early embryogenesis).</td></tr><tr class=odd><td class=val>At1g69270</td>\n",
       "<td class=val>RPK1</td>\n",
       "<td class=val>Involved in the main abscisic acid-mediated (ABA) signaling pathway and in early ABA perception. Together with RPK2, required for pattern formation along the radial axis (e.g. the apical embryonic domain cell types that generate cotyledon primordia), and the apical-basal axis (e.g. differentiation of the basal pole during early embryogenesis).</td></tr><tr class=even><td class=val>At5g37800</td>\n",
       "<td class=val>RSL1</td>\n",
       "<td class=val>Transcription factor that is specifically required for the development of root hairs (PubMed:17556585). Acts with RHD6 to positively regulate root hair development (PubMed:17556585). Acts downstream of genes that regulate epidermal pattern formation, such as GL2 (PubMed:17556585). Acts with RHD6 as transcription factor that integrates a jasmonate (JA) signaling pathway that stimulates root hair growth (PubMed:31988260).</td></tr><tr class=odd><td class=val>At1g26830</td>\n",
       "<td class=val>CUL3A</td>\n",
       "<td class=val>Component of the cullin-RING ubiquitin ligases (CRL), or CUL3-RBX1-BTB protein E3 ligase complexes which mediate the ubiquitination and subsequent proteasomal degradation of target proteins. The functional specificity of the CRL complex depends on the BTB domain-containing protein as the susbstrate recognition component. Involved in embryo pattern formation and endosperm development. Required for the normal division and organization of the root stem cells and columella root cap cells. Regulates primary root growth by an unknown pathway, but in an ethylene-dependent manner. Functions in distal root patterning, by an ethylene-independent mechanism. Functionally redundant with CUL3B.</td></tr><tr class=even><td class=val>At1g66470</td>\n",
       "<td class=val>RHD6</td>\n",
       "<td class=val>Transcription factor that is specifically required for the development of root hairs (PubMed:17556585). Acts with RSL1 to positively regulate root hair development (PubMed:17556585). Acts downstream of genes that regulate epidermal pattern formation, such as GL2 (PubMed:17556585). Targets directly RSL4, another transcription factor involved in the regulation of root hair elongation (PubMed:20139979). Acts with RSL1 as transcription factor that integrates a jasmonate (JA) signaling pathway that stimulates root hair growth (PubMed:31988260).</td></tr><tr class=odd><td class=val>At3g09090</td>\n",
       "<td class=val>DEX1</td>\n",
       "<td class=val>Required for exine pattern formation during pollen development, especially for primexine deposition.</td></tr><tr class=even><td class=val>At5g55250</td>\n",
       "<td class=val>IAMT1</td>\n",
       "<td class=val>Catalyzes the methylation of the free carboxyl end of the plant hormone indole-3-acetic acid (IAA). Converts IAA to IAA methyl ester (MeIAA). Regulates IAA activities by IAA methylation. Methylation of IAA plays an important role in regulating plant development and auxin homeostasis. Required for correct leaf pattern formation. MeIAA seems to be an inactive form of IAA.</td></tr><tr class=odd><td class=val>At1g63700</td>\n",
       "<td class=val>YDA</td>\n",
       "<td class=val>Functions in a MAP kinase cascade that acts as a molecular switch to regulate the first cell fate decisions in the zygote and the early embryo. Promotes elongation of the zygote and development of its basal daughter cell into the extra-embryonic suspensor. In stomatal development, acts downstream of the LRR receptor TMM, but upstream of the MKK4/MKK5-MPK3/MPK6 module to regulate stomatal cell fate before the guard mother cell (GMC) is specified. Plays a central role in both guard cell identity and pattern formation. This MAPK cascade also functions downstream of the ER receptor in regulating coordinated local cell proliferation, which shapes the morphology of plant organs. Upon brassinosteroid signaling, is inhibited by phosphorylation of its auto-inhibitory N-terminal domain by the GSK3-like kinase ASK7.</td></tr><tr class=even><td class=val>At4g21750</td>\n",
       "<td class=val>ATML1</td>\n",
       "<td class=val>Probable transcription factor involved in cell specification and pattern formation during embryogenesis. Binds to the L1 box DNA sequence 5'-TAAATG[CT]A-3'. Plays a role in maintaining the identity of L1 cells, possibly by interacting with their L1 box or other target-gene promoters; binds to the LIP1 gene promoter and stimulates its expression upon imbibition (PubMed:24989044). Acts as a positive regulator of gibberellins (GAs)-regulated epidermal gene expression (e.g. LIP1, LIP2, LTP1, FDH and PDF1) (PubMed:24989044). Functionally redundant to PDF2 (PubMed:24989044). Seems to promote cell differentiation (PubMed:25564655).</td></tr><tr class=odd><td class=val>At1g69670</td>\n",
       "<td class=val>CUL3B</td>\n",
       "<td class=val>Component of the cullin-RING ubiquitin ligases (CRL), or CUL3-RBX1-BTB protein E3 ligase complexes which mediate the ubiquitination and subsequent proteasomal degradation of target proteins. The functional specificity of the CRL complex depends on the BTB domain-containing protein as the susbstrate recognition component. Involved in embryo pattern formation and endosperm development. Required for the normal division and organization of the root stem cells and columella root cap cells. Regulates primary root growth by an unknown pathway, but in an ethylene-dependent manner. Functions in distal root patterning, by an ethylene-independent mechanism. Functionally redundant with CUL3A.</td></tr><tr class=even><td class=val>At5g02010</td>\n",
       "<td class=val>ROPGEF7</td>\n",
       "<td class=val>Guanine-nucleotide exchange factor (GEF) that acts as an activator of Rop (Rho of plants) GTPases by promoting the exchange of GDP for GTP. In postembryonic roots, modulates root stem cell maintenance by regulating the expression of PLT1 and PLT2, which are key transcription factors that mediate the patterning of the root stem cell niche. May connect RopGEF-regulated Rac/Rop signaling and auxin-dependent PLT-regulated root pattern formation.</td></tr><tr class=odd><td class=val>At4g37650</td>\n",
       "<td class=val>SHR</td>\n",
       "<td class=val>Transcription factor required for quiescent center cells specification and maintenance of surrounding stem cells, and for the asymmetric cell division involved in radial pattern formation in roots. Essential for both cell division and cell specification. Regulates the radial organization of the shoot axial organs and is required for normal shoot gravitropism. Directly controls the transcription of SCR, and when associated with SCR, of MGP, RLK, TRI, NUC and SCL3.</td></tr><tr class=even><td class=val>At3g54220</td>\n",
       "<td class=val>SCR</td>\n",
       "<td class=val>Transcription factor required for quiescent center cells specification and maintenance of surrounding stem cells, and for the asymmetric cell division involved in radial pattern formation in roots. Essential for cell division but not differentiation of the ground tissue. Also required for normal shoot gravitropism. Regulates the radial organization of the shoot axial organs. Binds to the promoter of MGP, NUC, RLK and SCL3. Restricts SHR movment and sequesters it into the nucleus of the endodermis.</td></tr><tr class=odd><td class=val>At2g46710</td>\n",
       "<td class=val>ROPGAP3</td>\n",
       "<td class=val>Acts as a GTPase activator for the Rac-type GTPase by converting it to an inactive GDP-bound state. Involved in secondary wall pattern formation. In association with ROPGEF4, mediates local activation of ARAC10/ROP11 to initiate the distinct pattern of secondary cell walls in xylem cells.</td></tr><tr class=even><td class=val>At2g42580</td>\n",
       "<td class=val>TTL3</td>\n",
       "<td class=val>Involved in osmotic and salt stress tolerance. May play a role in the control of meristematic cell size during osmotic stress. May function as an adapter protein for BRL2 and may be required for signaling affecting leaf vascular tissue pattern formation.</td></tr><tr class=odd><td class=val>At5g40260</td>\n",
       "<td class=val>SWEET8</td>\n",
       "<td class=val>Mediates both low-affinity uptake and efflux of sugar across the plasma membrane. Required, in pollen, for microspore cell integrity and primexine pattern formation (PubMed:18434608, PubMed:25988582).</td></tr></table><div class=\"tinfo\">Total: 17, Shown: 17</div></div>"
      ]
     },
     "metadata": {},
     "output_type": "display_data"
    }
   ],
   "source": [
    "%endpoint https://sparql.uniprot.org/sparql\n",
    "%format JSON\n",
    "\n",
    "PREFIX skos: <http://www.w3.org/2004/02/skos/core#>\n",
    "PREFIX rdfs: <http://www.w3.org/2000/01/rdf-schema#>\n",
    "PREFIX rdf: <http://www.w3.org/1999/02/22-rdf-syntax-ns#>\n",
    "PREFIX up: <http://purl.uniprot.org/core/>\n",
    "\n",
    "select ?agi ?name ?comment where {\n",
    "    ?s a up:Protein;\n",
    "        up:organism ?taxon;\n",
    "        up:annotation ?a;\n",
    "        up:encodedBy ?g.\n",
    "    ?a a up:Function_Annotation;\n",
    "        rdfs:comment ?comment.\n",
    "    ?g a up:Gene;\n",
    "        skos:prefLabel ?name;\n",
    "        up:locusName ?agi.\n",
    "    ?taxon up:scientificName 'Arabidopsis thaliana'.\n",
    "    filter(contains(?comment,'pattern formation'))\n",
    "}"
   ]
  },
  {
   "cell_type": "markdown",
   "metadata": {},
   "source": [
    "Question 9.- what is the MetaNetX Reaction identifier (starts with “mnxr”) for the UniProt\n",
    "Protein uniprotkb:Q18A79?"
   ]
  },
  {
   "cell_type": "code",
   "execution_count": 8,
   "metadata": {
    "scrolled": true
   },
   "outputs": [
    {
     "data": {
      "text/html": [
       "<div class=\"krn-spql\"><div class=\"magic\">Endpoint set to: https://rdf.metanetx.org/sparql</div><div class=\"magic\">Request format: JSON</div></div>"
      ],
      "text/plain": [
       "Endpoint set to: https://rdf.metanetx.org/sparql\n",
       "Request format: JSON\n"
      ]
     },
     "metadata": {},
     "output_type": "display_data"
    },
    {
     "data": {
      "text/html": [
       "<div class=\"krn-spql\"><table><tr class=hdr><th>UniProt_pept</th>\n",
       "<th>pept_comment</th>\n",
       "<th>reaction_identifier</th></tr><tr class=odd><td class=val><a href=\"https://rdf.metanetx.org/pept/GLGA_CLOD6\" target=\"_other\">https://rdf.metanetx.org/pept/GLGA_CLOD6</a></td>\n",
       "<td class=val>Glycogen synthase (EC 2.4.1.21) (Starch [bacterial glycogen] synthase)</td>\n",
       "<td class=val><a href=\"http://bigg.ucsd.edu/universal/reactions/GLCS1\" target=\"_other\">http://bigg.ucsd.edu/universal/reactions/GLCS1</a></td></tr><tr class=even><td class=val><a href=\"https://rdf.metanetx.org/pept/GLGA_CLOD6\" target=\"_other\">https://rdf.metanetx.org/pept/GLGA_CLOD6</a></td>\n",
       "<td class=val>Glycogen synthase (EC 2.4.1.21) (Starch [bacterial glycogen] synthase)</td>\n",
       "<td class=val><a href=\"http://rdf.rhea-db.org/18189\" target=\"_other\">http://rdf.rhea-db.org/18189</a></td></tr></table><div class=\"tinfo\">Total: 2, Shown: 2</div></div>"
      ]
     },
     "metadata": {},
     "output_type": "display_data"
    }
   ],
   "source": [
    "%endpoint https://rdf.metanetx.org/sparql\n",
    "%format JSON\n",
    "\n",
    "PREFIX mnx: <https://rdf.metanetx.org/schema/>\n",
    "PREFIX rdfs: <http://www.w3.org/2000/01/rdf-schema#>\n",
    "PREFIX up: <http://purl.uniprot.org/uniprot/>\n",
    "\n",
    "select distinct ?UniProt_pept ?pept_comment ?reaction_identifier where{\n",
    "    ?UniProt_pept mnx:peptXref up:Q18A79;\n",
    "        rdfs:comment ?pept_comment.\n",
    "    ?cata mnx:pept ?UniProt_pept.\n",
    "    ?gpr mnx:cata ?cata;\n",
    "        mnx:reac ?reac.\n",
    "    ?reac mnx:mnxr ?rxn.\n",
    "    ?rxn mnx:reacRefer ?reaction_identifier.\n",
    "}"
   ]
  },
  {
   "cell_type": "markdown",
   "metadata": {},
   "source": [
    "Question 10.- What is the official Gene ID (UniProt calls this a “mnemonic”) and the MetaNetX\n",
    "Reaction identifier (mnxr.....) for the protein that has “Starch synthase” catalytic activity in Clostridium\n",
    "difficile (taxon 272563)?"
   ]
  },
  {
   "cell_type": "code",
   "execution_count": 9,
   "metadata": {},
   "outputs": [
    {
     "data": {
      "text/html": [
       "<div class=\"krn-spql\"><div class=\"magic\">Endpoint set to: https://rdf.metanetx.org/sparql</div><div class=\"magic\">Request format: JSON</div></div>"
      ],
      "text/plain": [
       "Endpoint set to: https://rdf.metanetx.org/sparql\n",
       "Request format: JSON\n"
      ]
     },
     "metadata": {},
     "output_type": "display_data"
    },
    {
     "data": {
      "text/html": [
       "<div class=\"krn-spql\"><table><tr class=hdr><th>id</th>\n",
       "<th>reaction_identifier</th></tr><tr class=odd><td class=val>GLGA_CLOD6</td>\n",
       "<td class=val><a href=\"http://bigg.ucsd.edu/universal/reactions/GLCS1\" target=\"_other\">http://bigg.ucsd.edu/universal/reactions/GLCS1</a></td></tr><tr class=even><td class=val>GLGA_CLOD6</td>\n",
       "<td class=val><a href=\"http://rdf.rhea-db.org/18189\" target=\"_other\">http://rdf.rhea-db.org/18189</a></td></tr></table><div class=\"tinfo\">Total: 2, Shown: 2</div></div>"
      ]
     },
     "metadata": {},
     "output_type": "display_data"
    }
   ],
   "source": [
    "%endpoint https://rdf.metanetx.org/sparql\n",
    "%format JSON\n",
    "\n",
    "PREFIX skos: <http://www.w3.org/2004/02/skos/core#>\n",
    "PREFIX up: <http://purl.uniprot.org/core/>\n",
    "PREFIX mnx: <https://rdf.metanetx.org/schema/>\n",
    "PREFIX taxon: <http://purl.uniprot.org/taxonomy/>\n",
    "\n",
    "select distinct ?id ?reaction_identifier where{\n",
    "    service <https://sparql.uniprot.org/sparql>{\n",
    "        select ?UPquery ?id  where {\n",
    "            ?UPquery a up:Protein;\n",
    "            up:organism taxon:272563;\n",
    "            up:mnemonic ?id;\n",
    "            up:enzyme ?act.\n",
    "            ?act skos:prefLabel 'starch synthase'.\n",
    "        }\n",
    "    }\n",
    "    ?pept mnx:peptXref ?UPquery. # This ended up being the same protein as above.\n",
    "    ?cata mnx:pept ?pept.\n",
    "    ?gpr mnx:cata ?cata;\n",
    "        mnx:reac ?reac.\n",
    "    ?reac mnx:mnxr ?rxn.\n",
    "    ?rxn mnx:reacRefer ?reaction_identifier.\n",
    "}"
   ]
  }
 ],
 "metadata": {
  "kernelspec": {
   "display_name": "SPARQL",
   "language": "sparql",
   "name": "sparql"
  },
  "language_info": {
   "codemirror_mode": {
    "name": "sparql"
   },
   "mimetype": "application/sparql-query",
   "name": "sparql",
   "pygments_lexer": "sparql-nb"
  }
 },
 "nbformat": 4,
 "nbformat_minor": 2
}
